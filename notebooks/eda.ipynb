{
 "nbformat": 4,
 "nbformat_minor": 2,
 "metadata": {
  "language_info": {
   "name": "python",
   "codemirror_mode": {
    "name": "ipython",
    "version": 3
   },
   "version": "3.6.4-final"
  },
  "orig_nbformat": 2,
  "file_extension": ".py",
  "mimetype": "text/x-python",
  "name": "python",
  "npconvert_exporter": "python",
  "pygments_lexer": "ipython3",
  "version": 3,
  "kernelspec": {
   "name": "python36464bitpy3garminfitedavirtualenv0110593de3bf40d1ae50438fad8d470d",
   "display_name": "Python 3.6.4 64-bit ('py3-garmin-fit-eda': virtualenv)"
  }
 },
 "cells": [
  {
   "cell_type": "code",
   "execution_count": 30,
   "metadata": {},
   "outputs": [],
   "source": [
    "import os\n",
    "import sys\n",
    "import fitparse\n",
    "import pandas as pd\n",
    "sys.path.insert(0,'..')\n",
    "from garmin_fit_eda.file_reader import file_to_dataframe, messages_to_dataframe"
   ]
  },
  {
   "cell_type": "code",
   "execution_count": 2,
   "metadata": {},
   "outputs": [],
   "source": [
    "INPUT_FILE = '/Users/ricky/Desktop/ACTIVITY/69JK5840.FIT'\n",
    "fitfile = fitparse.FitFile(INPUT_FILE)"
   ]
  },
  {
   "cell_type": "code",
   "execution_count": 12,
   "metadata": {},
   "outputs": [
    {
     "name": "stdout",
     "output_type": "stream",
     "text": "{'device_info', 'zones_target', 'activity', 'file_creator', 'session', 'device_settings', 'unknown_22', 'unknown_104', 'lap', 'event', 'unknown_147', 'unknown_216', 'record', 'sport', 'user_profile', 'unknown_140', 'unknown_113', 'file_id', 'unknown_13', 'unknown_79', 'unknown_141'}\n"
    }
   ],
   "source": [
    "# Get raw complete content as pandas dataframe\n",
    "msg_types = set([message.name for message in fitfile.get_messages()])\n",
    "print(msg_types)"
   ]
  },
  {
   "cell_type": "code",
   "execution_count": 13,
   "metadata": {},
   "outputs": [],
   "source": [
    "df_dict = {}\n",
    "for msg_type in set(msg_types):\n",
    "    df_dict[msg_type] = messages_to_dataframe(fitfile.get_messages(msg_type), dump_units=False)"
   ]
  },
  {
   "cell_type": "code",
   "execution_count": 34,
   "metadata": {},
   "outputs": [],
   "source": [
    "folder = os.path.split(INPUT_FILE)[1]\n",
    "os.mkdir(folder)\n",
    "for k, df in df_dict.items():\n",
    "    df.to_html(os.path.join(folder, k+'.html'))"
   ]
  },
  {
   "cell_type": "code",
   "execution_count": 27,
   "metadata": {},
   "outputs": [],
   "source": [
    "df_dict['event'].to_html('event.html')"
   ]
  },
  {
   "cell_type": "code",
   "execution_count": 23,
   "metadata": {},
   "outputs": [
    {
     "data": {
      "text/html": "<div>\n<style scoped>\n    .dataframe tbody tr th:only-of-type {\n        vertical-align: middle;\n    }\n\n    .dataframe tbody tr th {\n        vertical-align: top;\n    }\n\n    .dataframe thead th {\n        text-align: right;\n    }\n</style>\n<table border=\"1\" class=\"dataframe\">\n  <thead>\n    <tr style=\"text-align: right;\">\n      <th></th>\n      <th>avg_fractional_cadence</th>\n      <th>avg_heart_rate</th>\n      <th>avg_running_cadence</th>\n      <th>avg_speed</th>\n      <th>end_position_lat</th>\n      <th>end_position_long</th>\n      <th>enhanced_avg_speed</th>\n      <th>enhanced_max_speed</th>\n      <th>event</th>\n      <th>event_type</th>\n      <th>...</th>\n      <th>total_calories</th>\n      <th>total_descent</th>\n      <th>total_distance</th>\n      <th>total_elapsed_time</th>\n      <th>total_strides</th>\n      <th>total_timer_time</th>\n      <th>unknown_27</th>\n      <th>unknown_28</th>\n      <th>unknown_29</th>\n      <th>unknown_30</th>\n    </tr>\n  </thead>\n  <tbody>\n    <tr>\n      <th>0</th>\n      <td>0.804688</td>\n      <td>148</td>\n      <td>86</td>\n      <td>2672</td>\n      <td>534810365</td>\n      <td>138767172</td>\n      <td>2.672</td>\n      <td>2.743</td>\n      <td>lap</td>\n      <td>stop</td>\n      <td>...</td>\n      <td>64</td>\n      <td>7</td>\n      <td>1000.00</td>\n      <td>374.306</td>\n      <td>540</td>\n      <td>374.306</td>\n      <td>534867487</td>\n      <td>138838990</td>\n      <td>534810365</td>\n      <td>138767172</td>\n    </tr>\n    <tr>\n      <th>1</th>\n      <td>0.375000</td>\n      <td>152</td>\n      <td>87</td>\n      <td>2811</td>\n      <td>534779635</td>\n      <td>138664311</td>\n      <td>2.811</td>\n      <td>3.284</td>\n      <td>lap</td>\n      <td>stop</td>\n      <td>...</td>\n      <td>64</td>\n      <td>46</td>\n      <td>1000.00</td>\n      <td>355.798</td>\n      <td>518</td>\n      <td>355.798</td>\n      <td>534810075</td>\n      <td>138766922</td>\n      <td>534767028</td>\n      <td>138664311</td>\n    </tr>\n    <tr>\n      <th>2</th>\n      <td>0.726562</td>\n      <td>151</td>\n      <td>88</td>\n      <td>2779</td>\n      <td>534862086</td>\n      <td>138584535</td>\n      <td>2.779</td>\n      <td>2.865</td>\n      <td>lap</td>\n      <td>stop</td>\n      <td>...</td>\n      <td>64</td>\n      <td>13</td>\n      <td>1000.00</td>\n      <td>359.793</td>\n      <td>531</td>\n      <td>359.793</td>\n      <td>534862086</td>\n      <td>138664043</td>\n      <td>534779876</td>\n      <td>138576618</td>\n    </tr>\n    <tr>\n      <th>3</th>\n      <td>0.500000</td>\n      <td>161</td>\n      <td>88</td>\n      <td>3135</td>\n      <td>534940763</td>\n      <td>138630048</td>\n      <td>3.135</td>\n      <td>3.284</td>\n      <td>lap</td>\n      <td>stop</td>\n      <td>...</td>\n      <td>61</td>\n      <td>60</td>\n      <td>1000.00</td>\n      <td>318.972</td>\n      <td>470</td>\n      <td>318.972</td>\n      <td>534942920</td>\n      <td>138630048</td>\n      <td>534862296</td>\n      <td>138583216</td>\n    </tr>\n    <tr>\n      <th>4</th>\n      <td>0.843750</td>\n      <td>165</td>\n      <td>87</td>\n      <td>3077</td>\n      <td>534881128</td>\n      <td>138754111</td>\n      <td>3.077</td>\n      <td>3.322</td>\n      <td>lap</td>\n      <td>stop</td>\n      <td>...</td>\n      <td>63</td>\n      <td>31</td>\n      <td>1000.00</td>\n      <td>324.985</td>\n      <td>475</td>\n      <td>324.985</td>\n      <td>534940591</td>\n      <td>138754111</td>\n      <td>534881128</td>\n      <td>138630558</td>\n    </tr>\n    <tr>\n      <th>5</th>\n      <td>0.890625</td>\n      <td>166</td>\n      <td>86</td>\n      <td>3007</td>\n      <td>534875693</td>\n      <td>138850166</td>\n      <td>3.007</td>\n      <td>3.126</td>\n      <td>lap</td>\n      <td>stop</td>\n      <td>...</td>\n      <td>65</td>\n      <td>29</td>\n      <td>1000.00</td>\n      <td>332.569</td>\n      <td>482</td>\n      <td>332.569</td>\n      <td>534880914</td>\n      <td>138850166</td>\n      <td>534853252</td>\n      <td>138754559</td>\n    </tr>\n    <tr>\n      <th>6</th>\n      <td>0.359375</td>\n      <td>166</td>\n      <td>85</td>\n      <td>3008</td>\n      <td>534874890</td>\n      <td>138853002</td>\n      <td>3.008</td>\n      <td>3.051</td>\n      <td>lap</td>\n      <td>stop</td>\n      <td>...</td>\n      <td>1</td>\n      <td>0</td>\n      <td>21.29</td>\n      <td>7.078</td>\n      <td>8</td>\n      <td>7.078</td>\n      <td>534875585</td>\n      <td>138853002</td>\n      <td>534874890</td>\n      <td>138850575</td>\n    </tr>\n  </tbody>\n</table>\n<p>7 rows × 33 columns</p>\n</div>",
      "text/plain": "   avg_fractional_cadence  avg_heart_rate  avg_running_cadence  avg_speed  \\\n0                0.804688             148                   86       2672   \n1                0.375000             152                   87       2811   \n2                0.726562             151                   88       2779   \n3                0.500000             161                   88       3135   \n4                0.843750             165                   87       3077   \n5                0.890625             166                   86       3007   \n6                0.359375             166                   85       3008   \n\n   end_position_lat  end_position_long  enhanced_avg_speed  \\\n0         534810365          138767172               2.672   \n1         534779635          138664311               2.811   \n2         534862086          138584535               2.779   \n3         534940763          138630048               3.135   \n4         534881128          138754111               3.077   \n5         534875693          138850166               3.007   \n6         534874890          138853002               3.008   \n\n   enhanced_max_speed event event_type  ... total_calories  total_descent  \\\n0               2.743   lap       stop  ...             64              7   \n1               3.284   lap       stop  ...             64             46   \n2               2.865   lap       stop  ...             64             13   \n3               3.284   lap       stop  ...             61             60   \n4               3.322   lap       stop  ...             63             31   \n5               3.126   lap       stop  ...             65             29   \n6               3.051   lap       stop  ...              1              0   \n\n   total_distance  total_elapsed_time  total_strides  total_timer_time  \\\n0         1000.00             374.306            540           374.306   \n1         1000.00             355.798            518           355.798   \n2         1000.00             359.793            531           359.793   \n3         1000.00             318.972            470           318.972   \n4         1000.00             324.985            475           324.985   \n5         1000.00             332.569            482           332.569   \n6           21.29               7.078              8             7.078   \n\n  unknown_27  unknown_28  unknown_29 unknown_30  \n0  534867487   138838990   534810365  138767172  \n1  534810075   138766922   534767028  138664311  \n2  534862086   138664043   534779876  138576618  \n3  534942920   138630048   534862296  138583216  \n4  534940591   138754111   534881128  138630558  \n5  534880914   138850166   534853252  138754559  \n6  534875585   138853002   534874890  138850575  \n\n[7 rows x 33 columns]"
     },
     "execution_count": 23,
     "metadata": {},
     "output_type": "execute_result"
    }
   ],
   "source": [
    "df_dict['lap']"
   ]
  },
  {
   "cell_type": "code",
   "execution_count": 22,
   "metadata": {},
   "outputs": [
    {
     "data": {
      "text/html": "<div>\n<style scoped>\n    .dataframe tbody tr th:only-of-type {\n        vertical-align: middle;\n    }\n\n    .dataframe tbody tr th {\n        vertical-align: top;\n    }\n\n    .dataframe thead th {\n        text-align: right;\n    }\n</style>\n<table border=\"1\" class=\"dataframe\">\n  <thead>\n    <tr style=\"text-align: right;\">\n      <th></th>\n      <th>unknown_0</th>\n      <th>unknown_2</th>\n      <th>unknown_253</th>\n      <th>unknown_3</th>\n    </tr>\n  </thead>\n  <tbody>\n    <tr>\n      <th>0</th>\n      <td>3756</td>\n      <td>34</td>\n      <td>843246149</td>\n      <td>27</td>\n    </tr>\n    <tr>\n      <th>1</th>\n      <td>3752</td>\n      <td>33</td>\n      <td>843246449</td>\n      <td>27</td>\n    </tr>\n    <tr>\n      <th>2</th>\n      <td>3755</td>\n      <td>32</td>\n      <td>843246749</td>\n      <td>26</td>\n    </tr>\n    <tr>\n      <th>3</th>\n      <td>3751</td>\n      <td>30</td>\n      <td>843247049</td>\n      <td>26</td>\n    </tr>\n    <tr>\n      <th>4</th>\n      <td>3746</td>\n      <td>29</td>\n      <td>843247349</td>\n      <td>26</td>\n    </tr>\n    <tr>\n      <th>5</th>\n      <td>3738</td>\n      <td>28</td>\n      <td>843247649</td>\n      <td>25</td>\n    </tr>\n    <tr>\n      <th>6</th>\n      <td>3737</td>\n      <td>27</td>\n      <td>843247948</td>\n      <td>25</td>\n    </tr>\n  </tbody>\n</table>\n</div>",
      "text/plain": "   unknown_0  unknown_2  unknown_253  unknown_3\n0       3756         34    843246149         27\n1       3752         33    843246449         27\n2       3755         32    843246749         26\n3       3751         30    843247049         26\n4       3746         29    843247349         26\n5       3738         28    843247649         25\n6       3737         27    843247948         25"
     },
     "execution_count": 22,
     "metadata": {},
     "output_type": "execute_result"
    }
   ],
   "source": [
    "df_dict['unknown_104']"
   ]
  },
  {
   "cell_type": "code",
   "execution_count": 21,
   "metadata": {},
   "outputs": [
    {
     "data": {
      "text/html": "<div>\n<style scoped>\n    .dataframe tbody tr th:only-of-type {\n        vertical-align: middle;\n    }\n\n    .dataframe tbody tr th {\n        vertical-align: top;\n    }\n\n    .dataframe thead th {\n        text-align: right;\n    }\n</style>\n<table border=\"1\" class=\"dataframe\">\n  <thead>\n    <tr style=\"text-align: right;\">\n      <th></th>\n      <th>unknown_0</th>\n      <th>unknown_1</th>\n      <th>unknown_2</th>\n      <th>unknown_253</th>\n      <th>unknown_3</th>\n      <th>unknown_4</th>\n      <th>unknown_5</th>\n    </tr>\n  </thead>\n  <tbody>\n    <tr>\n      <th>0</th>\n      <td>1</td>\n      <td>1</td>\n      <td>3</td>\n      <td>843245920</td>\n      <td>1</td>\n      <td>2</td>\n      <td>3</td>\n    </tr>\n  </tbody>\n</table>\n</div>",
      "text/plain": "   unknown_0  unknown_1  unknown_2  unknown_253  unknown_3  unknown_4  \\\n0          1          1          3    843245920          1          2   \n\n   unknown_5  \n0          3  "
     },
     "execution_count": 21,
     "metadata": {},
     "output_type": "execute_result"
    }
   ],
   "source": [
    "df_dict['unknown_22']"
   ]
  },
  {
   "cell_type": "code",
   "execution_count": 20,
   "metadata": {},
   "outputs": [
    {
     "data": {
      "text/html": "<div>\n<style scoped>\n    .dataframe tbody tr th:only-of-type {\n        vertical-align: middle;\n    }\n\n    .dataframe tbody tr th {\n        vertical-align: top;\n    }\n\n    .dataframe thead th {\n        text-align: right;\n    }\n</style>\n<table border=\"1\" class=\"dataframe\">\n  <thead>\n    <tr style=\"text-align: right;\">\n      <th></th>\n      <th>active_time_zone</th>\n      <th>activity_tracker_enabled</th>\n      <th>autosync_min_steps</th>\n      <th>autosync_min_time</th>\n      <th>backlight_mode</th>\n      <th>mounting_side</th>\n      <th>move_alert_enabled</th>\n      <th>time_mode</th>\n      <th>time_offset</th>\n      <th>time_zone_offset</th>\n      <th>...</th>\n      <th>unknown_64</th>\n      <th>unknown_65</th>\n      <th>unknown_66</th>\n      <th>unknown_67</th>\n      <th>unknown_68</th>\n      <th>unknown_69</th>\n      <th>unknown_81</th>\n      <th>unknown_83</th>\n      <th>unknown_84</th>\n      <th>utc_offset</th>\n    </tr>\n  </thead>\n  <tbody>\n    <tr>\n      <th>0</th>\n      <td>0</td>\n      <td>True</td>\n      <td>1000</td>\n      <td>60</td>\n      <td>manual</td>\n      <td>left</td>\n      <td>False</td>\n      <td>hour24</td>\n      <td>7200</td>\n      <td>0.0</td>\n      <td>...</td>\n      <td>0</td>\n      <td>1</td>\n      <td>2</td>\n      <td>2</td>\n      <td>0</td>\n      <td>3</td>\n      <td>1</td>\n      <td>0</td>\n      <td>0</td>\n      <td>0</td>\n    </tr>\n  </tbody>\n</table>\n<p>1 rows × 36 columns</p>\n</div>",
      "text/plain": "   active_time_zone  activity_tracker_enabled  autosync_min_steps  \\\n0                 0                      True                1000   \n\n   autosync_min_time backlight_mode mounting_side  move_alert_enabled  \\\n0                 60         manual          left               False   \n\n  time_mode  time_offset  time_zone_offset  ...  unknown_64  unknown_65  \\\n0    hour24         7200               0.0  ...           0           1   \n\n   unknown_66  unknown_67  unknown_68  unknown_69  unknown_81  unknown_83  \\\n0           2           2           0           3           1           0   \n\n   unknown_84  utc_offset  \n0           0           0  \n\n[1 rows x 36 columns]"
     },
     "execution_count": 20,
     "metadata": {},
     "output_type": "execute_result"
    }
   ],
   "source": [
    "df_dict['device_settings']"
   ]
  },
  {
   "cell_type": "code",
   "execution_count": 19,
   "metadata": {},
   "outputs": [
    {
     "data": {
      "text/html": "<div>\n<style scoped>\n    .dataframe tbody tr th:only-of-type {\n        vertical-align: middle;\n    }\n\n    .dataframe tbody tr th {\n        vertical-align: top;\n    }\n\n    .dataframe thead th {\n        text-align: right;\n    }\n</style>\n<table border=\"1\" class=\"dataframe\">\n  <thead>\n    <tr style=\"text-align: right;\">\n      <th></th>\n      <th>avg_fractional_cadence</th>\n      <th>avg_heart_rate</th>\n      <th>avg_running_cadence</th>\n      <th>avg_speed</th>\n      <th>enhanced_avg_speed</th>\n      <th>enhanced_max_speed</th>\n      <th>event</th>\n      <th>event_type</th>\n      <th>first_lap_index</th>\n      <th>max_fractional_cadence</th>\n      <th>...</th>\n      <th>total_calories</th>\n      <th>total_descent</th>\n      <th>total_distance</th>\n      <th>total_elapsed_time</th>\n      <th>total_strides</th>\n      <th>total_timer_time</th>\n      <th>total_training_effect</th>\n      <th>trigger</th>\n      <th>unknown_110</th>\n      <th>unknown_81</th>\n    </tr>\n  </thead>\n  <tbody>\n    <tr>\n      <th>0</th>\n      <td>0.671875</td>\n      <td>157</td>\n      <td>87</td>\n      <td>2904</td>\n      <td>2.904</td>\n      <td>3.322</td>\n      <td>lap</td>\n      <td>stop</td>\n      <td>0</td>\n      <td>0.5</td>\n      <td>...</td>\n      <td>382</td>\n      <td>186</td>\n      <td>6021.29</td>\n      <td>2073.501</td>\n      <td>3024</td>\n      <td>2073.501</td>\n      <td>3.2</td>\n      <td>activity_end</td>\n      <td>Corsa</td>\n      <td>0</td>\n    </tr>\n  </tbody>\n</table>\n<p>1 rows × 36 columns</p>\n</div>",
      "text/plain": "   avg_fractional_cadence  avg_heart_rate  avg_running_cadence  avg_speed  \\\n0                0.671875             157                   87       2904   \n\n   enhanced_avg_speed  enhanced_max_speed event event_type  first_lap_index  \\\n0               2.904               3.322   lap       stop                0   \n\n   max_fractional_cadence  ...  total_calories  total_descent  total_distance  \\\n0                     0.5  ...             382            186         6021.29   \n\n   total_elapsed_time  total_strides  total_timer_time  total_training_effect  \\\n0            2073.501           3024          2073.501                    3.2   \n\n        trigger  unknown_110  unknown_81  \n0  activity_end        Corsa           0  \n\n[1 rows x 36 columns]"
     },
     "execution_count": 19,
     "metadata": {},
     "output_type": "execute_result"
    }
   ],
   "source": [
    "df_dict['session']"
   ]
  },
  {
   "cell_type": "code",
   "execution_count": 18,
   "metadata": {},
   "outputs": [
    {
     "data": {
      "text/html": "<div>\n<style scoped>\n    .dataframe tbody tr th:only-of-type {\n        vertical-align: middle;\n    }\n\n    .dataframe tbody tr th {\n        vertical-align: top;\n    }\n\n    .dataframe thead th {\n        text-align: right;\n    }\n</style>\n<table border=\"1\" class=\"dataframe\">\n  <thead>\n    <tr style=\"text-align: right;\">\n      <th></th>\n      <th>software_version</th>\n    </tr>\n  </thead>\n  <tbody>\n    <tr>\n      <th>0</th>\n      <td>540</td>\n    </tr>\n  </tbody>\n</table>\n</div>",
      "text/plain": "   software_version\n0               540"
     },
     "execution_count": 18,
     "metadata": {},
     "output_type": "execute_result"
    }
   ],
   "source": [
    "df_dict['file_creator']"
   ]
  },
  {
   "cell_type": "code",
   "execution_count": 17,
   "metadata": {},
   "outputs": [
    {
     "data": {
      "text/html": "<div>\n<style scoped>\n    .dataframe tbody tr th:only-of-type {\n        vertical-align: middle;\n    }\n\n    .dataframe tbody tr th {\n        vertical-align: top;\n    }\n\n    .dataframe thead th {\n        text-align: right;\n    }\n</style>\n<table border=\"1\" class=\"dataframe\">\n  <thead>\n    <tr style=\"text-align: right;\">\n      <th></th>\n      <th>event</th>\n      <th>event_type</th>\n      <th>local_timestamp</th>\n      <th>num_sessions</th>\n      <th>timestamp</th>\n      <th>total_timer_time</th>\n      <th>type</th>\n    </tr>\n  </thead>\n  <tbody>\n    <tr>\n      <th>0</th>\n      <td>activity</td>\n      <td>stop</td>\n      <td>2016-09-19 21:35:22</td>\n      <td>1</td>\n      <td>2016-09-19 19:35:22</td>\n      <td>2073.501</td>\n      <td>manual</td>\n    </tr>\n  </tbody>\n</table>\n</div>",
      "text/plain": "      event event_type     local_timestamp  num_sessions           timestamp  \\\n0  activity       stop 2016-09-19 21:35:22             1 2016-09-19 19:35:22   \n\n   total_timer_time    type  \n0          2073.501  manual  "
     },
     "execution_count": 17,
     "metadata": {},
     "output_type": "execute_result"
    }
   ],
   "source": [
    "df_dict['activity']"
   ]
  },
  {
   "cell_type": "code",
   "execution_count": 15,
   "metadata": {},
   "outputs": [
    {
     "data": {
      "text/html": "<div>\n<style scoped>\n    .dataframe tbody tr th:only-of-type {\n        vertical-align: middle;\n    }\n\n    .dataframe tbody tr th {\n        vertical-align: top;\n    }\n\n    .dataframe thead th {\n        text-align: right;\n    }\n</style>\n<table border=\"1\" class=\"dataframe\">\n  <thead>\n    <tr style=\"text-align: right;\">\n      <th></th>\n      <th>hr_calc_type</th>\n      <th>max_heart_rate</th>\n      <th>unknown_254</th>\n    </tr>\n  </thead>\n  <tbody>\n    <tr>\n      <th>0</th>\n      <td>custom</td>\n      <td>195</td>\n      <td>0</td>\n    </tr>\n  </tbody>\n</table>\n</div>",
      "text/plain": "  hr_calc_type  max_heart_rate  unknown_254\n0       custom             195            0"
     },
     "execution_count": 15,
     "metadata": {},
     "output_type": "execute_result"
    }
   ],
   "source": [
    "df_dict['zones_target']"
   ]
  },
  {
   "cell_type": "code",
   "execution_count": 14,
   "metadata": {},
   "outputs": [
    {
     "data": {
      "text/html": "<div>\n<style scoped>\n    .dataframe tbody tr th:only-of-type {\n        vertical-align: middle;\n    }\n\n    .dataframe tbody tr th {\n        vertical-align: top;\n    }\n\n    .dataframe thead th {\n        text-align: right;\n    }\n</style>\n<table border=\"1\" class=\"dataframe\">\n  <thead>\n    <tr style=\"text-align: right;\">\n      <th></th>\n      <th>ant_network</th>\n      <th>antplus_device_type</th>\n      <th>cum_operating_time</th>\n      <th>device_index</th>\n      <th>device_type</th>\n      <th>garmin_product</th>\n      <th>manufacturer</th>\n      <th>product</th>\n      <th>serial_number</th>\n      <th>software_version</th>\n      <th>source_type</th>\n      <th>timestamp</th>\n      <th>unknown_15</th>\n      <th>unknown_16</th>\n      <th>unknown_24</th>\n      <th>unknown_9</th>\n    </tr>\n  </thead>\n  <tbody>\n    <tr>\n      <th>0</th>\n      <td>NaN</td>\n      <td>NaN</td>\n      <td>NaN</td>\n      <td>creator</td>\n      <td>NaN</td>\n      <td>fr230</td>\n      <td>garmin</td>\n      <td>NaN</td>\n      <td>3.913333e+09</td>\n      <td>5.4</td>\n      <td>local</td>\n      <td>2016-09-19 18:58:40</td>\n      <td>NaN</td>\n      <td>NaN</td>\n      <td>NaN</td>\n      <td>NaN</td>\n    </tr>\n    <tr>\n      <th>1</th>\n      <td>NaN</td>\n      <td>NaN</td>\n      <td>NaN</td>\n      <td>1</td>\n      <td>0.0</td>\n      <td>1619</td>\n      <td>garmin</td>\n      <td>NaN</td>\n      <td>NaN</td>\n      <td>3.0</td>\n      <td>local</td>\n      <td>2016-09-19 18:58:40</td>\n      <td>NaN</td>\n      <td>NaN</td>\n      <td>NaN</td>\n      <td>NaN</td>\n    </tr>\n    <tr>\n      <th>2</th>\n      <td>antplus</td>\n      <td>heart_rate</td>\n      <td>2962298.0</td>\n      <td>2</td>\n      <td>NaN</td>\n      <td>NaN</td>\n      <td>NaN</td>\n      <td>2.0</td>\n      <td>NaN</td>\n      <td>3.0</td>\n      <td>antplus</td>\n      <td>2016-09-19 18:58:40</td>\n      <td>35238.0</td>\n      <td>1256.0</td>\n      <td>24665753.0</td>\n      <td>97.0</td>\n    </tr>\n    <tr>\n      <th>3</th>\n      <td>NaN</td>\n      <td>NaN</td>\n      <td>NaN</td>\n      <td>3</td>\n      <td>3.0</td>\n      <td>NaN</td>\n      <td>garmin_fr405_antfs</td>\n      <td>0.0</td>\n      <td>NaN</td>\n      <td>0.0</td>\n      <td>local</td>\n      <td>2016-09-19 18:58:40</td>\n      <td>NaN</td>\n      <td>NaN</td>\n      <td>NaN</td>\n      <td>NaN</td>\n    </tr>\n    <tr>\n      <th>4</th>\n      <td>NaN</td>\n      <td>NaN</td>\n      <td>NaN</td>\n      <td>creator</td>\n      <td>NaN</td>\n      <td>fr230</td>\n      <td>garmin</td>\n      <td>NaN</td>\n      <td>3.913333e+09</td>\n      <td>5.4</td>\n      <td>local</td>\n      <td>2016-09-19 19:33:13</td>\n      <td>NaN</td>\n      <td>NaN</td>\n      <td>NaN</td>\n      <td>NaN</td>\n    </tr>\n    <tr>\n      <th>5</th>\n      <td>NaN</td>\n      <td>NaN</td>\n      <td>NaN</td>\n      <td>1</td>\n      <td>0.0</td>\n      <td>1619</td>\n      <td>garmin</td>\n      <td>NaN</td>\n      <td>NaN</td>\n      <td>3.0</td>\n      <td>local</td>\n      <td>2016-09-19 19:33:13</td>\n      <td>NaN</td>\n      <td>NaN</td>\n      <td>NaN</td>\n      <td>NaN</td>\n    </tr>\n    <tr>\n      <th>6</th>\n      <td>antplus</td>\n      <td>heart_rate</td>\n      <td>2964362.0</td>\n      <td>2</td>\n      <td>NaN</td>\n      <td>NaN</td>\n      <td>NaN</td>\n      <td>2.0</td>\n      <td>NaN</td>\n      <td>3.0</td>\n      <td>antplus</td>\n      <td>2016-09-19 19:33:13</td>\n      <td>43428.0</td>\n      <td>1481.0</td>\n      <td>24665753.0</td>\n      <td>97.0</td>\n    </tr>\n    <tr>\n      <th>7</th>\n      <td>NaN</td>\n      <td>NaN</td>\n      <td>NaN</td>\n      <td>3</td>\n      <td>3.0</td>\n      <td>NaN</td>\n      <td>garmin_fr405_antfs</td>\n      <td>0.0</td>\n      <td>NaN</td>\n      <td>0.0</td>\n      <td>local</td>\n      <td>2016-09-19 19:33:13</td>\n      <td>NaN</td>\n      <td>NaN</td>\n      <td>NaN</td>\n      <td>NaN</td>\n    </tr>\n  </tbody>\n</table>\n</div>",
      "text/plain": "  ant_network antplus_device_type  cum_operating_time device_index  \\\n0         NaN                 NaN                 NaN      creator   \n1         NaN                 NaN                 NaN            1   \n2     antplus          heart_rate           2962298.0            2   \n3         NaN                 NaN                 NaN            3   \n4         NaN                 NaN                 NaN      creator   \n5         NaN                 NaN                 NaN            1   \n6     antplus          heart_rate           2964362.0            2   \n7         NaN                 NaN                 NaN            3   \n\n   device_type garmin_product        manufacturer  product  serial_number  \\\n0          NaN          fr230              garmin      NaN   3.913333e+09   \n1          0.0           1619              garmin      NaN            NaN   \n2          NaN            NaN                 NaN      2.0            NaN   \n3          3.0            NaN  garmin_fr405_antfs      0.0            NaN   \n4          NaN          fr230              garmin      NaN   3.913333e+09   \n5          0.0           1619              garmin      NaN            NaN   \n6          NaN            NaN                 NaN      2.0            NaN   \n7          3.0            NaN  garmin_fr405_antfs      0.0            NaN   \n\n   software_version source_type           timestamp  unknown_15  unknown_16  \\\n0               5.4       local 2016-09-19 18:58:40         NaN         NaN   \n1               3.0       local 2016-09-19 18:58:40         NaN         NaN   \n2               3.0     antplus 2016-09-19 18:58:40     35238.0      1256.0   \n3               0.0       local 2016-09-19 18:58:40         NaN         NaN   \n4               5.4       local 2016-09-19 19:33:13         NaN         NaN   \n5               3.0       local 2016-09-19 19:33:13         NaN         NaN   \n6               3.0     antplus 2016-09-19 19:33:13     43428.0      1481.0   \n7               0.0       local 2016-09-19 19:33:13         NaN         NaN   \n\n   unknown_24  unknown_9  \n0         NaN        NaN  \n1         NaN        NaN  \n2  24665753.0       97.0  \n3         NaN        NaN  \n4         NaN        NaN  \n5         NaN        NaN  \n6  24665753.0       97.0  \n7         NaN        NaN  "
     },
     "execution_count": 14,
     "metadata": {},
     "output_type": "execute_result"
    }
   ],
   "source": [
    "df_dict['device_info']"
   ]
  },
  {
   "cell_type": "code",
   "execution_count": null,
   "metadata": {},
   "outputs": [],
   "source": []
  }
 ]
}