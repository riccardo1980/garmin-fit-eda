{
 "cells": [
  {
   "cell_type": "markdown",
   "metadata": {},
   "source": [
    "# FIT file opening \n",
    "- fit file specification (zip download): https://www.thisisant.com/resources/fit"
   ]
  },
  {
   "cell_type": "code",
   "execution_count": 49,
   "metadata": {},
   "outputs": [],
   "source": [
    "import os\n",
    "import sys\n",
    "import fitparse\n",
    "import pandas as pd\n",
    "sys.path.insert(0,'..')\n",
    "from garmin_fit_eda.file_reader import messages_to_dataframe"
   ]
  },
  {
   "cell_type": "code",
   "execution_count": 50,
   "metadata": {},
   "outputs": [],
   "source": [
    "DATA_ROOT = '../data'\n",
    "INPUT_FILE = 'A5H81711.FIT'"
   ]
  },
  {
   "cell_type": "markdown",
   "metadata": {},
   "source": [
    "## File opening using fitfile package"
   ]
  },
  {
   "cell_type": "code",
   "execution_count": 15,
   "metadata": {},
   "outputs": [],
   "source": [
    "fitfile = fitparse.FitFile(os.path.join(DATA_ROOT, INPUT_FILE))"
   ]
  },
  {
   "cell_type": "code",
   "execution_count": 16,
   "metadata": {},
   "outputs": [],
   "source": [
    "# Get list of messages\n",
    "message_count = {}\n",
    "for message in fitfile.get_messages():\n",
    "    name = message.name\n",
    "    if name not in message_count:\n",
    "        message_count[name] = 1\n",
    "    else:\n",
    "        message_count[name] += 1"
   ]
  },
  {
   "cell_type": "code",
   "execution_count": 51,
   "metadata": {
    "tags": []
   },
   "outputs": [
    {
     "output_type": "execute_result",
     "data": {
      "text/plain": "       message_name  counts\n14              hrv    4313\n13           record    4022\n15      unknown_104      14\n17      unknown_216      13\n3       device_info      12\n16              lap      12\n2             event       6\n21      unknown_113       4\n4        unknown_22       3\n20         activity       1\n19          session       1\n18      unknown_140       1\n0           file_id       1\n12     zones_target       1\n1      file_creator       1\n10            sport       1\n9        unknown_79       1\n8       unknown_147       1\n7      user_profile       1\n6   device_settings       1\n5       unknown_141       1\n11       unknown_13       1",
      "text/html": "<div>\n<style scoped>\n    .dataframe tbody tr th:only-of-type {\n        vertical-align: middle;\n    }\n\n    .dataframe tbody tr th {\n        vertical-align: top;\n    }\n\n    .dataframe thead th {\n        text-align: right;\n    }\n</style>\n<table border=\"1\" class=\"dataframe\">\n  <thead>\n    <tr style=\"text-align: right;\">\n      <th></th>\n      <th>message_name</th>\n      <th>counts</th>\n    </tr>\n  </thead>\n  <tbody>\n    <tr>\n      <th>14</th>\n      <td>hrv</td>\n      <td>4313</td>\n    </tr>\n    <tr>\n      <th>13</th>\n      <td>record</td>\n      <td>4022</td>\n    </tr>\n    <tr>\n      <th>15</th>\n      <td>unknown_104</td>\n      <td>14</td>\n    </tr>\n    <tr>\n      <th>17</th>\n      <td>unknown_216</td>\n      <td>13</td>\n    </tr>\n    <tr>\n      <th>3</th>\n      <td>device_info</td>\n      <td>12</td>\n    </tr>\n    <tr>\n      <th>16</th>\n      <td>lap</td>\n      <td>12</td>\n    </tr>\n    <tr>\n      <th>2</th>\n      <td>event</td>\n      <td>6</td>\n    </tr>\n    <tr>\n      <th>21</th>\n      <td>unknown_113</td>\n      <td>4</td>\n    </tr>\n    <tr>\n      <th>4</th>\n      <td>unknown_22</td>\n      <td>3</td>\n    </tr>\n    <tr>\n      <th>20</th>\n      <td>activity</td>\n      <td>1</td>\n    </tr>\n    <tr>\n      <th>19</th>\n      <td>session</td>\n      <td>1</td>\n    </tr>\n    <tr>\n      <th>18</th>\n      <td>unknown_140</td>\n      <td>1</td>\n    </tr>\n    <tr>\n      <th>0</th>\n      <td>file_id</td>\n      <td>1</td>\n    </tr>\n    <tr>\n      <th>12</th>\n      <td>zones_target</td>\n      <td>1</td>\n    </tr>\n    <tr>\n      <th>1</th>\n      <td>file_creator</td>\n      <td>1</td>\n    </tr>\n    <tr>\n      <th>10</th>\n      <td>sport</td>\n      <td>1</td>\n    </tr>\n    <tr>\n      <th>9</th>\n      <td>unknown_79</td>\n      <td>1</td>\n    </tr>\n    <tr>\n      <th>8</th>\n      <td>unknown_147</td>\n      <td>1</td>\n    </tr>\n    <tr>\n      <th>7</th>\n      <td>user_profile</td>\n      <td>1</td>\n    </tr>\n    <tr>\n      <th>6</th>\n      <td>device_settings</td>\n      <td>1</td>\n    </tr>\n    <tr>\n      <th>5</th>\n      <td>unknown_141</td>\n      <td>1</td>\n    </tr>\n    <tr>\n      <th>11</th>\n      <td>unknown_13</td>\n      <td>1</td>\n    </tr>\n  </tbody>\n</table>\n</div>"
     },
     "metadata": {},
     "execution_count": 51
    }
   ],
   "source": [
    "df = pd.DataFrame.from_dict(message_count, orient='index').reset_index()\n",
    "df = df.rename(columns={'index': 'message_name', 0: 'counts'})\n",
    "df = df.sort_values(by=['counts'], ascending=False)\n",
    "df"
   ]
  },
  {
   "cell_type": "markdown",
   "metadata": {},
   "source": [
    "## Get a different dataframe for each message group"
   ]
  },
  {
   "cell_type": "code",
   "execution_count": 55,
   "metadata": {},
   "outputs": [],
   "source": [
    "df_dict = {}\n",
    "for msg_type in message_count.keys():\n",
    "    df_dict[msg_type] = messages_to_dataframe(fitfile.get_messages(msg_type), dump_units=True)"
   ]
  },
  {
   "cell_type": "code",
   "execution_count": 56,
   "metadata": {},
   "outputs": [
    {
     "output_type": "execute_result",
     "data": {
      "text/plain": "     data        event  event_group event_type timer_trigger  \\\n0     NaN        timer          0.0      start        manual   \n1   100.0           39          NaN     marker           NaN   \n2     NaN        timer          0.0   stop_all        manual   \n3   123.0  recovery_hr          NaN     marker           NaN   \n4  2746.0           38          NaN     marker           NaN   \n\n            timestamp  \n0 2020-05-17 06:17:11  \n1 2020-05-17 06:23:10  \n2 2020-05-17 07:24:12  \n3 2020-05-17 07:26:12  \n4 2020-05-17 07:30:47  ",
      "text/html": "<div>\n<style scoped>\n    .dataframe tbody tr th:only-of-type {\n        vertical-align: middle;\n    }\n\n    .dataframe tbody tr th {\n        vertical-align: top;\n    }\n\n    .dataframe thead th {\n        text-align: right;\n    }\n</style>\n<table border=\"1\" class=\"dataframe\">\n  <thead>\n    <tr style=\"text-align: right;\">\n      <th></th>\n      <th>data</th>\n      <th>event</th>\n      <th>event_group</th>\n      <th>event_type</th>\n      <th>timer_trigger</th>\n      <th>timestamp</th>\n    </tr>\n  </thead>\n  <tbody>\n    <tr>\n      <th>0</th>\n      <td>NaN</td>\n      <td>timer</td>\n      <td>0.0</td>\n      <td>start</td>\n      <td>manual</td>\n      <td>2020-05-17 06:17:11</td>\n    </tr>\n    <tr>\n      <th>1</th>\n      <td>100.0</td>\n      <td>39</td>\n      <td>NaN</td>\n      <td>marker</td>\n      <td>NaN</td>\n      <td>2020-05-17 06:23:10</td>\n    </tr>\n    <tr>\n      <th>2</th>\n      <td>NaN</td>\n      <td>timer</td>\n      <td>0.0</td>\n      <td>stop_all</td>\n      <td>manual</td>\n      <td>2020-05-17 07:24:12</td>\n    </tr>\n    <tr>\n      <th>3</th>\n      <td>123.0</td>\n      <td>recovery_hr</td>\n      <td>NaN</td>\n      <td>marker</td>\n      <td>NaN</td>\n      <td>2020-05-17 07:26:12</td>\n    </tr>\n    <tr>\n      <th>4</th>\n      <td>2746.0</td>\n      <td>38</td>\n      <td>NaN</td>\n      <td>marker</td>\n      <td>NaN</td>\n      <td>2020-05-17 07:30:47</td>\n    </tr>\n  </tbody>\n</table>\n</div>"
     },
     "metadata": {},
     "execution_count": 56
    }
   ],
   "source": [
    "df_dict['event'].head()"
   ]
  },
  {
   "cell_type": "code",
   "execution_count": 57,
   "metadata": {},
   "outputs": [
    {
     "output_type": "execute_result",
     "data": {
      "text/plain": "  activity_type  altitude  cadence cadence_units  distance distance_units  \\\n0       walking      2616       52           rpm      2.23              m   \n1       walking      2617       52           rpm      4.01              m   \n2       walking      2621       52           rpm      6.08              m   \n3       running      2616       78           rpm      8.58              m   \n4       running      2615       79           rpm     11.06              m   \n\n   enhanced_altitude enhanced_altitude_units  enhanced_speed  \\\n0               23.2                       m           1.484   \n1               23.4                       m           1.754   \n2               24.2                       m           1.754   \n3               23.2                       m           1.829   \n4               23.0                       m           2.099   \n\n  enhanced_speed_units  ...  temperature temperature_units  \\\n0                  m/s  ...           29                 C   \n1                  m/s  ...           29                 C   \n2                  m/s  ...           29                 C   \n3                  m/s  ...           29                 C   \n4                  m/s  ...           29                 C   \n\n            timestamp unknown_87  unknown_88 unknown_90  vertical_oscillation  \\\n0 2020-05-17 06:17:11          0         300        NaN                  37.0   \n1 2020-05-17 06:17:12          0         300        NaN                  41.0   \n2 2020-05-17 06:17:13          0         300        NaN                  41.0   \n3 2020-05-17 06:17:14          0         300        NaN                  84.7   \n4 2020-05-17 06:17:15          0         300        NaN                  83.0   \n\n  vertical_oscillation_units  vertical_ratio  vertical_ratio_units  \n0                         mm            4.96               percent  \n1                         mm            4.96               percent  \n2                         mm            7.40               percent  \n3                         mm           12.00               percent  \n4                         mm           11.50               percent  \n\n[5 rows x 37 columns]",
      "text/html": "<div>\n<style scoped>\n    .dataframe tbody tr th:only-of-type {\n        vertical-align: middle;\n    }\n\n    .dataframe tbody tr th {\n        vertical-align: top;\n    }\n\n    .dataframe thead th {\n        text-align: right;\n    }\n</style>\n<table border=\"1\" class=\"dataframe\">\n  <thead>\n    <tr style=\"text-align: right;\">\n      <th></th>\n      <th>activity_type</th>\n      <th>altitude</th>\n      <th>cadence</th>\n      <th>cadence_units</th>\n      <th>distance</th>\n      <th>distance_units</th>\n      <th>enhanced_altitude</th>\n      <th>enhanced_altitude_units</th>\n      <th>enhanced_speed</th>\n      <th>enhanced_speed_units</th>\n      <th>...</th>\n      <th>temperature</th>\n      <th>temperature_units</th>\n      <th>timestamp</th>\n      <th>unknown_87</th>\n      <th>unknown_88</th>\n      <th>unknown_90</th>\n      <th>vertical_oscillation</th>\n      <th>vertical_oscillation_units</th>\n      <th>vertical_ratio</th>\n      <th>vertical_ratio_units</th>\n    </tr>\n  </thead>\n  <tbody>\n    <tr>\n      <th>0</th>\n      <td>walking</td>\n      <td>2616</td>\n      <td>52</td>\n      <td>rpm</td>\n      <td>2.23</td>\n      <td>m</td>\n      <td>23.2</td>\n      <td>m</td>\n      <td>1.484</td>\n      <td>m/s</td>\n      <td>...</td>\n      <td>29</td>\n      <td>C</td>\n      <td>2020-05-17 06:17:11</td>\n      <td>0</td>\n      <td>300</td>\n      <td>NaN</td>\n      <td>37.0</td>\n      <td>mm</td>\n      <td>4.96</td>\n      <td>percent</td>\n    </tr>\n    <tr>\n      <th>1</th>\n      <td>walking</td>\n      <td>2617</td>\n      <td>52</td>\n      <td>rpm</td>\n      <td>4.01</td>\n      <td>m</td>\n      <td>23.4</td>\n      <td>m</td>\n      <td>1.754</td>\n      <td>m/s</td>\n      <td>...</td>\n      <td>29</td>\n      <td>C</td>\n      <td>2020-05-17 06:17:12</td>\n      <td>0</td>\n      <td>300</td>\n      <td>NaN</td>\n      <td>41.0</td>\n      <td>mm</td>\n      <td>4.96</td>\n      <td>percent</td>\n    </tr>\n    <tr>\n      <th>2</th>\n      <td>walking</td>\n      <td>2621</td>\n      <td>52</td>\n      <td>rpm</td>\n      <td>6.08</td>\n      <td>m</td>\n      <td>24.2</td>\n      <td>m</td>\n      <td>1.754</td>\n      <td>m/s</td>\n      <td>...</td>\n      <td>29</td>\n      <td>C</td>\n      <td>2020-05-17 06:17:13</td>\n      <td>0</td>\n      <td>300</td>\n      <td>NaN</td>\n      <td>41.0</td>\n      <td>mm</td>\n      <td>7.40</td>\n      <td>percent</td>\n    </tr>\n    <tr>\n      <th>3</th>\n      <td>running</td>\n      <td>2616</td>\n      <td>78</td>\n      <td>rpm</td>\n      <td>8.58</td>\n      <td>m</td>\n      <td>23.2</td>\n      <td>m</td>\n      <td>1.829</td>\n      <td>m/s</td>\n      <td>...</td>\n      <td>29</td>\n      <td>C</td>\n      <td>2020-05-17 06:17:14</td>\n      <td>0</td>\n      <td>300</td>\n      <td>NaN</td>\n      <td>84.7</td>\n      <td>mm</td>\n      <td>12.00</td>\n      <td>percent</td>\n    </tr>\n    <tr>\n      <th>4</th>\n      <td>running</td>\n      <td>2615</td>\n      <td>79</td>\n      <td>rpm</td>\n      <td>11.06</td>\n      <td>m</td>\n      <td>23.0</td>\n      <td>m</td>\n      <td>2.099</td>\n      <td>m/s</td>\n      <td>...</td>\n      <td>29</td>\n      <td>C</td>\n      <td>2020-05-17 06:17:15</td>\n      <td>0</td>\n      <td>300</td>\n      <td>NaN</td>\n      <td>83.0</td>\n      <td>mm</td>\n      <td>11.50</td>\n      <td>percent</td>\n    </tr>\n  </tbody>\n</table>\n<p>5 rows × 37 columns</p>\n</div>"
     },
     "metadata": {},
     "execution_count": 57
    }
   ],
   "source": [
    "df_dict['record'].head()"
   ]
  },
  {
   "cell_type": "code",
   "execution_count": 34,
   "metadata": {},
   "outputs": [],
   "source": [
    "folder = os.path.split(INPUT_FILE)[1]\n",
    "os.mkdir(folder)\n",
    "for k, df in df_dict.items():\n",
    "    df.to_html(os.path.join(folder, k+'.html'))"
   ]
  },
  {
   "cell_type": "code",
   "execution_count": 27,
   "metadata": {},
   "outputs": [],
   "source": [
    "df_dict['event'].to_html('event.html')"
   ]
  },
  {
   "cell_type": "code",
   "execution_count": 23,
   "metadata": {},
   "outputs": [
    {
     "data": {
      "text/html": "<div>\n<style scoped>\n    .dataframe tbody tr th:only-of-type {\n        vertical-align: middle;\n    }\n\n    .dataframe tbody tr th {\n        vertical-align: top;\n    }\n\n    .dataframe thead th {\n        text-align: right;\n    }\n</style>\n<table border=\"1\" class=\"dataframe\">\n  <thead>\n    <tr style=\"text-align: right;\">\n      <th></th>\n      <th>avg_fractional_cadence</th>\n      <th>avg_heart_rate</th>\n      <th>avg_running_cadence</th>\n      <th>avg_speed</th>\n      <th>end_position_lat</th>\n      <th>end_position_long</th>\n      <th>enhanced_avg_speed</th>\n      <th>enhanced_max_speed</th>\n      <th>event</th>\n      <th>event_type</th>\n      <th>...</th>\n      <th>total_calories</th>\n      <th>total_descent</th>\n      <th>total_distance</th>\n      <th>total_elapsed_time</th>\n      <th>total_strides</th>\n      <th>total_timer_time</th>\n      <th>unknown_27</th>\n      <th>unknown_28</th>\n      <th>unknown_29</th>\n      <th>unknown_30</th>\n    </tr>\n  </thead>\n  <tbody>\n    <tr>\n      <th>0</th>\n      <td>0.804688</td>\n      <td>148</td>\n      <td>86</td>\n      <td>2672</td>\n      <td>534810365</td>\n      <td>138767172</td>\n      <td>2.672</td>\n      <td>2.743</td>\n      <td>lap</td>\n      <td>stop</td>\n      <td>...</td>\n      <td>64</td>\n      <td>7</td>\n      <td>1000.00</td>\n      <td>374.306</td>\n      <td>540</td>\n      <td>374.306</td>\n      <td>534867487</td>\n      <td>138838990</td>\n      <td>534810365</td>\n      <td>138767172</td>\n    </tr>\n    <tr>\n      <th>1</th>\n      <td>0.375000</td>\n      <td>152</td>\n      <td>87</td>\n      <td>2811</td>\n      <td>534779635</td>\n      <td>138664311</td>\n      <td>2.811</td>\n      <td>3.284</td>\n      <td>lap</td>\n      <td>stop</td>\n      <td>...</td>\n      <td>64</td>\n      <td>46</td>\n      <td>1000.00</td>\n      <td>355.798</td>\n      <td>518</td>\n      <td>355.798</td>\n      <td>534810075</td>\n      <td>138766922</td>\n      <td>534767028</td>\n      <td>138664311</td>\n    </tr>\n    <tr>\n      <th>2</th>\n      <td>0.726562</td>\n      <td>151</td>\n      <td>88</td>\n      <td>2779</td>\n      <td>534862086</td>\n      <td>138584535</td>\n      <td>2.779</td>\n      <td>2.865</td>\n      <td>lap</td>\n      <td>stop</td>\n      <td>...</td>\n      <td>64</td>\n      <td>13</td>\n      <td>1000.00</td>\n      <td>359.793</td>\n      <td>531</td>\n      <td>359.793</td>\n      <td>534862086</td>\n      <td>138664043</td>\n      <td>534779876</td>\n      <td>138576618</td>\n    </tr>\n    <tr>\n      <th>3</th>\n      <td>0.500000</td>\n      <td>161</td>\n      <td>88</td>\n      <td>3135</td>\n      <td>534940763</td>\n      <td>138630048</td>\n      <td>3.135</td>\n      <td>3.284</td>\n      <td>lap</td>\n      <td>stop</td>\n      <td>...</td>\n      <td>61</td>\n      <td>60</td>\n      <td>1000.00</td>\n      <td>318.972</td>\n      <td>470</td>\n      <td>318.972</td>\n      <td>534942920</td>\n      <td>138630048</td>\n      <td>534862296</td>\n      <td>138583216</td>\n    </tr>\n    <tr>\n      <th>4</th>\n      <td>0.843750</td>\n      <td>165</td>\n      <td>87</td>\n      <td>3077</td>\n      <td>534881128</td>\n      <td>138754111</td>\n      <td>3.077</td>\n      <td>3.322</td>\n      <td>lap</td>\n      <td>stop</td>\n      <td>...</td>\n      <td>63</td>\n      <td>31</td>\n      <td>1000.00</td>\n      <td>324.985</td>\n      <td>475</td>\n      <td>324.985</td>\n      <td>534940591</td>\n      <td>138754111</td>\n      <td>534881128</td>\n      <td>138630558</td>\n    </tr>\n    <tr>\n      <th>5</th>\n      <td>0.890625</td>\n      <td>166</td>\n      <td>86</td>\n      <td>3007</td>\n      <td>534875693</td>\n      <td>138850166</td>\n      <td>3.007</td>\n      <td>3.126</td>\n      <td>lap</td>\n      <td>stop</td>\n      <td>...</td>\n      <td>65</td>\n      <td>29</td>\n      <td>1000.00</td>\n      <td>332.569</td>\n      <td>482</td>\n      <td>332.569</td>\n      <td>534880914</td>\n      <td>138850166</td>\n      <td>534853252</td>\n      <td>138754559</td>\n    </tr>\n    <tr>\n      <th>6</th>\n      <td>0.359375</td>\n      <td>166</td>\n      <td>85</td>\n      <td>3008</td>\n      <td>534874890</td>\n      <td>138853002</td>\n      <td>3.008</td>\n      <td>3.051</td>\n      <td>lap</td>\n      <td>stop</td>\n      <td>...</td>\n      <td>1</td>\n      <td>0</td>\n      <td>21.29</td>\n      <td>7.078</td>\n      <td>8</td>\n      <td>7.078</td>\n      <td>534875585</td>\n      <td>138853002</td>\n      <td>534874890</td>\n      <td>138850575</td>\n    </tr>\n  </tbody>\n</table>\n<p>7 rows × 33 columns</p>\n</div>",
      "text/plain": "   avg_fractional_cadence  avg_heart_rate  avg_running_cadence  avg_speed  \\\n0                0.804688             148                   86       2672   \n1                0.375000             152                   87       2811   \n2                0.726562             151                   88       2779   \n3                0.500000             161                   88       3135   \n4                0.843750             165                   87       3077   \n5                0.890625             166                   86       3007   \n6                0.359375             166                   85       3008   \n\n   end_position_lat  end_position_long  enhanced_avg_speed  \\\n0         534810365          138767172               2.672   \n1         534779635          138664311               2.811   \n2         534862086          138584535               2.779   \n3         534940763          138630048               3.135   \n4         534881128          138754111               3.077   \n5         534875693          138850166               3.007   \n6         534874890          138853002               3.008   \n\n   enhanced_max_speed event event_type  ... total_calories  total_descent  \\\n0               2.743   lap       stop  ...             64              7   \n1               3.284   lap       stop  ...             64             46   \n2               2.865   lap       stop  ...             64             13   \n3               3.284   lap       stop  ...             61             60   \n4               3.322   lap       stop  ...             63             31   \n5               3.126   lap       stop  ...             65             29   \n6               3.051   lap       stop  ...              1              0   \n\n   total_distance  total_elapsed_time  total_strides  total_timer_time  \\\n0         1000.00             374.306            540           374.306   \n1         1000.00             355.798            518           355.798   \n2         1000.00             359.793            531           359.793   \n3         1000.00             318.972            470           318.972   \n4         1000.00             324.985            475           324.985   \n5         1000.00             332.569            482           332.569   \n6           21.29               7.078              8             7.078   \n\n  unknown_27  unknown_28  unknown_29 unknown_30  \n0  534867487   138838990   534810365  138767172  \n1  534810075   138766922   534767028  138664311  \n2  534862086   138664043   534779876  138576618  \n3  534942920   138630048   534862296  138583216  \n4  534940591   138754111   534881128  138630558  \n5  534880914   138850166   534853252  138754559  \n6  534875585   138853002   534874890  138850575  \n\n[7 rows x 33 columns]"
     },
     "execution_count": 23,
     "metadata": {},
     "output_type": "execute_result"
    }
   ],
   "source": [
    "df_dict['lap']"
   ]
  },
  {
   "cell_type": "code",
   "execution_count": 22,
   "metadata": {},
   "outputs": [
    {
     "data": {
      "text/html": "<div>\n<style scoped>\n    .dataframe tbody tr th:only-of-type {\n        vertical-align: middle;\n    }\n\n    .dataframe tbody tr th {\n        vertical-align: top;\n    }\n\n    .dataframe thead th {\n        text-align: right;\n    }\n</style>\n<table border=\"1\" class=\"dataframe\">\n  <thead>\n    <tr style=\"text-align: right;\">\n      <th></th>\n      <th>unknown_0</th>\n      <th>unknown_2</th>\n      <th>unknown_253</th>\n      <th>unknown_3</th>\n    </tr>\n  </thead>\n  <tbody>\n    <tr>\n      <th>0</th>\n      <td>3756</td>\n      <td>34</td>\n      <td>843246149</td>\n      <td>27</td>\n    </tr>\n    <tr>\n      <th>1</th>\n      <td>3752</td>\n      <td>33</td>\n      <td>843246449</td>\n      <td>27</td>\n    </tr>\n    <tr>\n      <th>2</th>\n      <td>3755</td>\n      <td>32</td>\n      <td>843246749</td>\n      <td>26</td>\n    </tr>\n    <tr>\n      <th>3</th>\n      <td>3751</td>\n      <td>30</td>\n      <td>843247049</td>\n      <td>26</td>\n    </tr>\n    <tr>\n      <th>4</th>\n      <td>3746</td>\n      <td>29</td>\n      <td>843247349</td>\n      <td>26</td>\n    </tr>\n    <tr>\n      <th>5</th>\n      <td>3738</td>\n      <td>28</td>\n      <td>843247649</td>\n      <td>25</td>\n    </tr>\n    <tr>\n      <th>6</th>\n      <td>3737</td>\n      <td>27</td>\n      <td>843247948</td>\n      <td>25</td>\n    </tr>\n  </tbody>\n</table>\n</div>",
      "text/plain": "   unknown_0  unknown_2  unknown_253  unknown_3\n0       3756         34    843246149         27\n1       3752         33    843246449         27\n2       3755         32    843246749         26\n3       3751         30    843247049         26\n4       3746         29    843247349         26\n5       3738         28    843247649         25\n6       3737         27    843247948         25"
     },
     "execution_count": 22,
     "metadata": {},
     "output_type": "execute_result"
    }
   ],
   "source": [
    "df_dict['unknown_104']"
   ]
  },
  {
   "cell_type": "code",
   "execution_count": 21,
   "metadata": {},
   "outputs": [
    {
     "data": {
      "text/html": "<div>\n<style scoped>\n    .dataframe tbody tr th:only-of-type {\n        vertical-align: middle;\n    }\n\n    .dataframe tbody tr th {\n        vertical-align: top;\n    }\n\n    .dataframe thead th {\n        text-align: right;\n    }\n</style>\n<table border=\"1\" class=\"dataframe\">\n  <thead>\n    <tr style=\"text-align: right;\">\n      <th></th>\n      <th>unknown_0</th>\n      <th>unknown_1</th>\n      <th>unknown_2</th>\n      <th>unknown_253</th>\n      <th>unknown_3</th>\n      <th>unknown_4</th>\n      <th>unknown_5</th>\n    </tr>\n  </thead>\n  <tbody>\n    <tr>\n      <th>0</th>\n      <td>1</td>\n      <td>1</td>\n      <td>3</td>\n      <td>843245920</td>\n      <td>1</td>\n      <td>2</td>\n      <td>3</td>\n    </tr>\n  </tbody>\n</table>\n</div>",
      "text/plain": "   unknown_0  unknown_1  unknown_2  unknown_253  unknown_3  unknown_4  \\\n0          1          1          3    843245920          1          2   \n\n   unknown_5  \n0          3  "
     },
     "execution_count": 21,
     "metadata": {},
     "output_type": "execute_result"
    }
   ],
   "source": [
    "df_dict['unknown_22']"
   ]
  },
  {
   "cell_type": "code",
   "execution_count": 20,
   "metadata": {},
   "outputs": [
    {
     "data": {
      "text/html": "<div>\n<style scoped>\n    .dataframe tbody tr th:only-of-type {\n        vertical-align: middle;\n    }\n\n    .dataframe tbody tr th {\n        vertical-align: top;\n    }\n\n    .dataframe thead th {\n        text-align: right;\n    }\n</style>\n<table border=\"1\" class=\"dataframe\">\n  <thead>\n    <tr style=\"text-align: right;\">\n      <th></th>\n      <th>active_time_zone</th>\n      <th>activity_tracker_enabled</th>\n      <th>autosync_min_steps</th>\n      <th>autosync_min_time</th>\n      <th>backlight_mode</th>\n      <th>mounting_side</th>\n      <th>move_alert_enabled</th>\n      <th>time_mode</th>\n      <th>time_offset</th>\n      <th>time_zone_offset</th>\n      <th>...</th>\n      <th>unknown_64</th>\n      <th>unknown_65</th>\n      <th>unknown_66</th>\n      <th>unknown_67</th>\n      <th>unknown_68</th>\n      <th>unknown_69</th>\n      <th>unknown_81</th>\n      <th>unknown_83</th>\n      <th>unknown_84</th>\n      <th>utc_offset</th>\n    </tr>\n  </thead>\n  <tbody>\n    <tr>\n      <th>0</th>\n      <td>0</td>\n      <td>True</td>\n      <td>1000</td>\n      <td>60</td>\n      <td>manual</td>\n      <td>left</td>\n      <td>False</td>\n      <td>hour24</td>\n      <td>7200</td>\n      <td>0.0</td>\n      <td>...</td>\n      <td>0</td>\n      <td>1</td>\n      <td>2</td>\n      <td>2</td>\n      <td>0</td>\n      <td>3</td>\n      <td>1</td>\n      <td>0</td>\n      <td>0</td>\n      <td>0</td>\n    </tr>\n  </tbody>\n</table>\n<p>1 rows × 36 columns</p>\n</div>",
      "text/plain": "   active_time_zone  activity_tracker_enabled  autosync_min_steps  \\\n0                 0                      True                1000   \n\n   autosync_min_time backlight_mode mounting_side  move_alert_enabled  \\\n0                 60         manual          left               False   \n\n  time_mode  time_offset  time_zone_offset  ...  unknown_64  unknown_65  \\\n0    hour24         7200               0.0  ...           0           1   \n\n   unknown_66  unknown_67  unknown_68  unknown_69  unknown_81  unknown_83  \\\n0           2           2           0           3           1           0   \n\n   unknown_84  utc_offset  \n0           0           0  \n\n[1 rows x 36 columns]"
     },
     "execution_count": 20,
     "metadata": {},
     "output_type": "execute_result"
    }
   ],
   "source": [
    "df_dict['device_settings']"
   ]
  },
  {
   "cell_type": "code",
   "execution_count": 19,
   "metadata": {},
   "outputs": [
    {
     "data": {
      "text/html": "<div>\n<style scoped>\n    .dataframe tbody tr th:only-of-type {\n        vertical-align: middle;\n    }\n\n    .dataframe tbody tr th {\n        vertical-align: top;\n    }\n\n    .dataframe thead th {\n        text-align: right;\n    }\n</style>\n<table border=\"1\" class=\"dataframe\">\n  <thead>\n    <tr style=\"text-align: right;\">\n      <th></th>\n      <th>avg_fractional_cadence</th>\n      <th>avg_heart_rate</th>\n      <th>avg_running_cadence</th>\n      <th>avg_speed</th>\n      <th>enhanced_avg_speed</th>\n      <th>enhanced_max_speed</th>\n      <th>event</th>\n      <th>event_type</th>\n      <th>first_lap_index</th>\n      <th>max_fractional_cadence</th>\n      <th>...</th>\n      <th>total_calories</th>\n      <th>total_descent</th>\n      <th>total_distance</th>\n      <th>total_elapsed_time</th>\n      <th>total_strides</th>\n      <th>total_timer_time</th>\n      <th>total_training_effect</th>\n      <th>trigger</th>\n      <th>unknown_110</th>\n      <th>unknown_81</th>\n    </tr>\n  </thead>\n  <tbody>\n    <tr>\n      <th>0</th>\n      <td>0.671875</td>\n      <td>157</td>\n      <td>87</td>\n      <td>2904</td>\n      <td>2.904</td>\n      <td>3.322</td>\n      <td>lap</td>\n      <td>stop</td>\n      <td>0</td>\n      <td>0.5</td>\n      <td>...</td>\n      <td>382</td>\n      <td>186</td>\n      <td>6021.29</td>\n      <td>2073.501</td>\n      <td>3024</td>\n      <td>2073.501</td>\n      <td>3.2</td>\n      <td>activity_end</td>\n      <td>Corsa</td>\n      <td>0</td>\n    </tr>\n  </tbody>\n</table>\n<p>1 rows × 36 columns</p>\n</div>",
      "text/plain": "   avg_fractional_cadence  avg_heart_rate  avg_running_cadence  avg_speed  \\\n0                0.671875             157                   87       2904   \n\n   enhanced_avg_speed  enhanced_max_speed event event_type  first_lap_index  \\\n0               2.904               3.322   lap       stop                0   \n\n   max_fractional_cadence  ...  total_calories  total_descent  total_distance  \\\n0                     0.5  ...             382            186         6021.29   \n\n   total_elapsed_time  total_strides  total_timer_time  total_training_effect  \\\n0            2073.501           3024          2073.501                    3.2   \n\n        trigger  unknown_110  unknown_81  \n0  activity_end        Corsa           0  \n\n[1 rows x 36 columns]"
     },
     "execution_count": 19,
     "metadata": {},
     "output_type": "execute_result"
    }
   ],
   "source": [
    "df_dict['session']"
   ]
  },
  {
   "cell_type": "code",
   "execution_count": 18,
   "metadata": {},
   "outputs": [
    {
     "data": {
      "text/html": "<div>\n<style scoped>\n    .dataframe tbody tr th:only-of-type {\n        vertical-align: middle;\n    }\n\n    .dataframe tbody tr th {\n        vertical-align: top;\n    }\n\n    .dataframe thead th {\n        text-align: right;\n    }\n</style>\n<table border=\"1\" class=\"dataframe\">\n  <thead>\n    <tr style=\"text-align: right;\">\n      <th></th>\n      <th>software_version</th>\n    </tr>\n  </thead>\n  <tbody>\n    <tr>\n      <th>0</th>\n      <td>540</td>\n    </tr>\n  </tbody>\n</table>\n</div>",
      "text/plain": "   software_version\n0               540"
     },
     "execution_count": 18,
     "metadata": {},
     "output_type": "execute_result"
    }
   ],
   "source": [
    "df_dict['file_creator']"
   ]
  },
  {
   "cell_type": "code",
   "execution_count": 17,
   "metadata": {},
   "outputs": [
    {
     "data": {
      "text/html": "<div>\n<style scoped>\n    .dataframe tbody tr th:only-of-type {\n        vertical-align: middle;\n    }\n\n    .dataframe tbody tr th {\n        vertical-align: top;\n    }\n\n    .dataframe thead th {\n        text-align: right;\n    }\n</style>\n<table border=\"1\" class=\"dataframe\">\n  <thead>\n    <tr style=\"text-align: right;\">\n      <th></th>\n      <th>event</th>\n      <th>event_type</th>\n      <th>local_timestamp</th>\n      <th>num_sessions</th>\n      <th>timestamp</th>\n      <th>total_timer_time</th>\n      <th>type</th>\n    </tr>\n  </thead>\n  <tbody>\n    <tr>\n      <th>0</th>\n      <td>activity</td>\n      <td>stop</td>\n      <td>2016-09-19 21:35:22</td>\n      <td>1</td>\n      <td>2016-09-19 19:35:22</td>\n      <td>2073.501</td>\n      <td>manual</td>\n    </tr>\n  </tbody>\n</table>\n</div>",
      "text/plain": "      event event_type     local_timestamp  num_sessions           timestamp  \\\n0  activity       stop 2016-09-19 21:35:22             1 2016-09-19 19:35:22   \n\n   total_timer_time    type  \n0          2073.501  manual  "
     },
     "execution_count": 17,
     "metadata": {},
     "output_type": "execute_result"
    }
   ],
   "source": [
    "df_dict['activity']"
   ]
  },
  {
   "cell_type": "code",
   "execution_count": 15,
   "metadata": {},
   "outputs": [
    {
     "data": {
      "text/html": "<div>\n<style scoped>\n    .dataframe tbody tr th:only-of-type {\n        vertical-align: middle;\n    }\n\n    .dataframe tbody tr th {\n        vertical-align: top;\n    }\n\n    .dataframe thead th {\n        text-align: right;\n    }\n</style>\n<table border=\"1\" class=\"dataframe\">\n  <thead>\n    <tr style=\"text-align: right;\">\n      <th></th>\n      <th>hr_calc_type</th>\n      <th>max_heart_rate</th>\n      <th>unknown_254</th>\n    </tr>\n  </thead>\n  <tbody>\n    <tr>\n      <th>0</th>\n      <td>custom</td>\n      <td>195</td>\n      <td>0</td>\n    </tr>\n  </tbody>\n</table>\n</div>",
      "text/plain": "  hr_calc_type  max_heart_rate  unknown_254\n0       custom             195            0"
     },
     "execution_count": 15,
     "metadata": {},
     "output_type": "execute_result"
    }
   ],
   "source": [
    "df_dict['zones_target']"
   ]
  },
  {
   "cell_type": "code",
   "execution_count": 14,
   "metadata": {},
   "outputs": [
    {
     "data": {
      "text/html": "<div>\n<style scoped>\n    .dataframe tbody tr th:only-of-type {\n        vertical-align: middle;\n    }\n\n    .dataframe tbody tr th {\n        vertical-align: top;\n    }\n\n    .dataframe thead th {\n        text-align: right;\n    }\n</style>\n<table border=\"1\" class=\"dataframe\">\n  <thead>\n    <tr style=\"text-align: right;\">\n      <th></th>\n      <th>ant_network</th>\n      <th>antplus_device_type</th>\n      <th>cum_operating_time</th>\n      <th>device_index</th>\n      <th>device_type</th>\n      <th>garmin_product</th>\n      <th>manufacturer</th>\n      <th>product</th>\n      <th>serial_number</th>\n      <th>software_version</th>\n      <th>source_type</th>\n      <th>timestamp</th>\n      <th>unknown_15</th>\n      <th>unknown_16</th>\n      <th>unknown_24</th>\n      <th>unknown_9</th>\n    </tr>\n  </thead>\n  <tbody>\n    <tr>\n      <th>0</th>\n      <td>NaN</td>\n      <td>NaN</td>\n      <td>NaN</td>\n      <td>creator</td>\n      <td>NaN</td>\n      <td>fr230</td>\n      <td>garmin</td>\n      <td>NaN</td>\n      <td>3.913333e+09</td>\n      <td>5.4</td>\n      <td>local</td>\n      <td>2016-09-19 18:58:40</td>\n      <td>NaN</td>\n      <td>NaN</td>\n      <td>NaN</td>\n      <td>NaN</td>\n    </tr>\n    <tr>\n      <th>1</th>\n      <td>NaN</td>\n      <td>NaN</td>\n      <td>NaN</td>\n      <td>1</td>\n      <td>0.0</td>\n      <td>1619</td>\n      <td>garmin</td>\n      <td>NaN</td>\n      <td>NaN</td>\n      <td>3.0</td>\n      <td>local</td>\n      <td>2016-09-19 18:58:40</td>\n      <td>NaN</td>\n      <td>NaN</td>\n      <td>NaN</td>\n      <td>NaN</td>\n    </tr>\n    <tr>\n      <th>2</th>\n      <td>antplus</td>\n      <td>heart_rate</td>\n      <td>2962298.0</td>\n      <td>2</td>\n      <td>NaN</td>\n      <td>NaN</td>\n      <td>NaN</td>\n      <td>2.0</td>\n      <td>NaN</td>\n      <td>3.0</td>\n      <td>antplus</td>\n      <td>2016-09-19 18:58:40</td>\n      <td>35238.0</td>\n      <td>1256.0</td>\n      <td>24665753.0</td>\n      <td>97.0</td>\n    </tr>\n    <tr>\n      <th>3</th>\n      <td>NaN</td>\n      <td>NaN</td>\n      <td>NaN</td>\n      <td>3</td>\n      <td>3.0</td>\n      <td>NaN</td>\n      <td>garmin_fr405_antfs</td>\n      <td>0.0</td>\n      <td>NaN</td>\n      <td>0.0</td>\n      <td>local</td>\n      <td>2016-09-19 18:58:40</td>\n      <td>NaN</td>\n      <td>NaN</td>\n      <td>NaN</td>\n      <td>NaN</td>\n    </tr>\n    <tr>\n      <th>4</th>\n      <td>NaN</td>\n      <td>NaN</td>\n      <td>NaN</td>\n      <td>creator</td>\n      <td>NaN</td>\n      <td>fr230</td>\n      <td>garmin</td>\n      <td>NaN</td>\n      <td>3.913333e+09</td>\n      <td>5.4</td>\n      <td>local</td>\n      <td>2016-09-19 19:33:13</td>\n      <td>NaN</td>\n      <td>NaN</td>\n      <td>NaN</td>\n      <td>NaN</td>\n    </tr>\n    <tr>\n      <th>5</th>\n      <td>NaN</td>\n      <td>NaN</td>\n      <td>NaN</td>\n      <td>1</td>\n      <td>0.0</td>\n      <td>1619</td>\n      <td>garmin</td>\n      <td>NaN</td>\n      <td>NaN</td>\n      <td>3.0</td>\n      <td>local</td>\n      <td>2016-09-19 19:33:13</td>\n      <td>NaN</td>\n      <td>NaN</td>\n      <td>NaN</td>\n      <td>NaN</td>\n    </tr>\n    <tr>\n      <th>6</th>\n      <td>antplus</td>\n      <td>heart_rate</td>\n      <td>2964362.0</td>\n      <td>2</td>\n      <td>NaN</td>\n      <td>NaN</td>\n      <td>NaN</td>\n      <td>2.0</td>\n      <td>NaN</td>\n      <td>3.0</td>\n      <td>antplus</td>\n      <td>2016-09-19 19:33:13</td>\n      <td>43428.0</td>\n      <td>1481.0</td>\n      <td>24665753.0</td>\n      <td>97.0</td>\n    </tr>\n    <tr>\n      <th>7</th>\n      <td>NaN</td>\n      <td>NaN</td>\n      <td>NaN</td>\n      <td>3</td>\n      <td>3.0</td>\n      <td>NaN</td>\n      <td>garmin_fr405_antfs</td>\n      <td>0.0</td>\n      <td>NaN</td>\n      <td>0.0</td>\n      <td>local</td>\n      <td>2016-09-19 19:33:13</td>\n      <td>NaN</td>\n      <td>NaN</td>\n      <td>NaN</td>\n      <td>NaN</td>\n    </tr>\n  </tbody>\n</table>\n</div>",
      "text/plain": "  ant_network antplus_device_type  cum_operating_time device_index  \\\n0         NaN                 NaN                 NaN      creator   \n1         NaN                 NaN                 NaN            1   \n2     antplus          heart_rate           2962298.0            2   \n3         NaN                 NaN                 NaN            3   \n4         NaN                 NaN                 NaN      creator   \n5         NaN                 NaN                 NaN            1   \n6     antplus          heart_rate           2964362.0            2   \n7         NaN                 NaN                 NaN            3   \n\n   device_type garmin_product        manufacturer  product  serial_number  \\\n0          NaN          fr230              garmin      NaN   3.913333e+09   \n1          0.0           1619              garmin      NaN            NaN   \n2          NaN            NaN                 NaN      2.0            NaN   \n3          3.0            NaN  garmin_fr405_antfs      0.0            NaN   \n4          NaN          fr230              garmin      NaN   3.913333e+09   \n5          0.0           1619              garmin      NaN            NaN   \n6          NaN            NaN                 NaN      2.0            NaN   \n7          3.0            NaN  garmin_fr405_antfs      0.0            NaN   \n\n   software_version source_type           timestamp  unknown_15  unknown_16  \\\n0               5.4       local 2016-09-19 18:58:40         NaN         NaN   \n1               3.0       local 2016-09-19 18:58:40         NaN         NaN   \n2               3.0     antplus 2016-09-19 18:58:40     35238.0      1256.0   \n3               0.0       local 2016-09-19 18:58:40         NaN         NaN   \n4               5.4       local 2016-09-19 19:33:13         NaN         NaN   \n5               3.0       local 2016-09-19 19:33:13         NaN         NaN   \n6               3.0     antplus 2016-09-19 19:33:13     43428.0      1481.0   \n7               0.0       local 2016-09-19 19:33:13         NaN         NaN   \n\n   unknown_24  unknown_9  \n0         NaN        NaN  \n1         NaN        NaN  \n2  24665753.0       97.0  \n3         NaN        NaN  \n4         NaN        NaN  \n5         NaN        NaN  \n6  24665753.0       97.0  \n7         NaN        NaN  "
     },
     "execution_count": 14,
     "metadata": {},
     "output_type": "execute_result"
    }
   ],
   "source": [
    "df_dict['device_info']"
   ]
  },
  {
   "cell_type": "code",
   "execution_count": null,
   "metadata": {},
   "outputs": [],
   "source": []
  }
 ],
 "metadata": {
  "language_info": {
   "name": "python",
   "codemirror_mode": {
    "name": "ipython",
    "version": 3
   },
   "version": "3.7.3-final"
  },
  "orig_nbformat": 2,
  "file_extension": ".py",
  "mimetype": "text/x-python",
  "name": "python",
  "npconvert_exporter": "python",
  "pygments_lexer": "ipython3",
  "version": 3,
  "kernelspec": {
   "name": "python37364bitpy3garminfitedavirtualenvadacdeab26eb4dc397aab63d0d8b2ea8",
   "display_name": "Python 3.7.3 64-bit ('py3-garmin-fit-eda': virtualenv)"
  }
 },
 "nbformat": 4,
 "nbformat_minor": 2
}