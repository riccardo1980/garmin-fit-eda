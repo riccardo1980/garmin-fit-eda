{
 "nbformat": 4,
 "nbformat_minor": 2,
 "metadata": {
  "language_info": {
   "name": "python",
   "codemirror_mode": {
    "name": "ipython",
    "version": 3
   },
   "version": "3.6.4-final"
  },
  "orig_nbformat": 2,
  "file_extension": ".py",
  "mimetype": "text/x-python",
  "name": "python",
  "npconvert_exporter": "python",
  "pygments_lexer": "ipython3",
  "version": 3,
  "kernelspec": {
   "name": "py3-garmin-fit-eda",
   "display_name": "py3-garmin-fit-eda"
  }
 },
 "cells": [
  {
   "cell_type": "code",
   "execution_count": 3,
   "metadata": {},
   "outputs": [],
   "source": [
    "from osmviz.manager import PILImageManager, OSMManager\n",
    "import PIL.Image as Image\n",
    "import pandas as pd\n",
    "import geopandas\n",
    "import sys"
   ]
  },
  {
   "cell_type": "code",
   "execution_count": 4,
   "metadata": {},
   "outputs": [],
   "source": [
    "sys.path.insert(0,'..')\n",
    "from garmin_fit_eda.file_reader import file_to_dataframe"
   ]
  },
  {
   "cell_type": "code",
   "execution_count": 5,
   "metadata": {},
   "outputs": [],
   "source": [
    "# INPUT_FILE = '../data/A1TI3754.FIT'\n",
    "INPUT_FILE = '../data/A1RI2458.FIT'\n",
    "df_fit = file_to_dataframe(INPUT_FILE)"
   ]
  },
  {
   "cell_type": "code",
   "execution_count": 6,
   "metadata": {},
   "outputs": [],
   "source": [
    "def semicircles_to_degrees(semicircles):\n",
    "    return semicircles * 180.0 / 2**31 \n",
    "\n",
    "df_conv = pd.DataFrame()\n",
    "\n",
    "df_conv['lat'] = df_fit.position_lat.apply(semicircles_to_degrees)\n",
    "df_conv['long'] = df_fit.position_long.apply(semicircles_to_degrees)\n",
    ""
   ]
  },
  {
   "cell_type": "code",
   "execution_count": 7,
   "metadata": {},
   "outputs": [
    {
     "output_type": "stream",
     "name": "stdout",
     "text": "WARNING: Using /var/folders/11/v_rg5_c50qs84m8thd_qhytr0000gn/T/ to cache maptiles.\nFetching 12 tiles...\n... done.\n"
    }
   ],
   "source": [
    "imgr = PILImageManager('RGB')\n",
    "osm = OSMManager(image_manager=imgr)\n",
    "lat_bounds =  (df_conv['lat'].min(), df_conv['lat'].max())\n",
    "long_bounds = (df_conv['long'].min(), df_conv['long'].max())\n",
    "level = 17 # \n",
    "image, bnds = osm.createOSMImage( lat_bounds + long_bounds, level )\n",
    "wh_ratio = float(image.size[0]) / image.size[1]\n",
    "image2 = image.resize( (int(800*wh_ratio),800), Image.ANTIALIAS )\n",
    "del image\n",
    "image2.show()"
   ]
  },
  {
   "cell_type": "code",
   "execution_count": 8,
   "metadata": {},
   "outputs": [],
   "source": [
    "gdf_fit = geopandas.GeoDataFrame(\n",
    "    df_conv, geometry=geopandas.points_from_xy(df_conv.long, df_conv.lat))"
   ]
  },
  {
   "cell_type": "code",
   "execution_count": null,
   "metadata": {},
   "outputs": [],
   "source": []
  }
 ]
}